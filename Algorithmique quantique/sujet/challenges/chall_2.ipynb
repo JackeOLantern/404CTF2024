{
  "cells": [
    {
      "cell_type": "code",
      "execution_count": 1,
      "id": "initial_id",
      "metadata": {},
      "outputs": [],
      "source": [
        "import numpy as np\n",
        "import perceval as pcvl"
      ]
    },
    {
      "cell_type": "markdown",
      "id": "1c4265d7-595a-482a-bde5-f513ba688dce",
      "metadata": {},
      "source": [
        "## Avant de commencer\n",
        "Voici quelques utilitaires : "
      ]
    },
    {
      "cell_type": "code",
      "execution_count": 2,
      "id": "fcd0864c-b449-4f8d-b81e-6749d8241f1d",
      "metadata": {},
      "outputs": [],
      "source": [
        "from perceval import pdisplay, PS, BS, Circuit, BasicState, Processor, StateVector\n",
        "from perceval.backends import BackendFactory\n",
        "from perceval.algorithm import Analyzer\n",
        "from exqalibur import FockState\n",
        "from qiskit.visualization import plot_bloch_multivector\n",
        "from qiskit.quantum_info import Statevector\n",
        "import matplotlib.pyplot as plt\n",
        "from numpy import pi, cos, sin\n",
        "from typing import Optional, List, Tuple\n",
        "\n",
        "\n",
        "# On reprend notre encodage par rail\n",
        "qubits = {\n",
        "    \"0\": BasicState([1, 0]),\n",
        "    \"1\": BasicState([0, 1])\n",
        "}\n",
        "qubits_ = {qubits[k]: k for k in qubits}\n",
        "sqlist = [qubits[\"0\"], qubits[\"1\"]]\n",
        "\n",
        "# Analyse du circuit\n",
        "def analyze(circuit: Circuit, input_states: Optional[FockState] = None, output_states: Optional[FockState] = None) \\\n",
        "        -> None:\n",
        "    if input_states is None:\n",
        "        input_states = sqlist\n",
        "    if output_states is None:\n",
        "        output_states = sqlist\n",
        "    p = Processor(\"Naive\", circuit)\n",
        "    a = Analyzer(p, input_states, output_states, mapping=qubits_)\n",
        "    pdisplay(a)\n",
        "\n",
        "# Analyse du circuit en calculant les amplitudes\n",
        "def amplitudes(circuit: Circuit, input_state: Optional[FockState] = None, output_states: Optional[FockState] = None) \\\n",
        "        -> (complex, complex):\n",
        "    if input_state is None:\n",
        "        input_state = qubits[\"0\"]\n",
        "    if output_states is None:\n",
        "        output_states = sqlist\n",
        "    b = BackendFactory.get_backend(\"Naive\")\n",
        "    b.set_circuit(circuit)\n",
        "    b.set_input_state(input_state)\n",
        "    return {qubits_[k]: roundc(b.prob_amplitude(k)) for k in output_states}\n",
        "\n",
        "# Affichage de la sph\u00e8re de Bloch\n",
        "def circuit_to_state_vector(circuit: Circuit) -> Statevector:\n",
        "    ampl0, ampl1 = amplitudes(circuit)\n",
        "    return Statevector([ampl0, ampl1])\n",
        "plot_bloch = lambda circuit : plot_bloch_multivector(circuit_to_state_vector(circuit))\n",
        "\n",
        "# Rotations\n",
        "x_rot = lambda x: Circuit(2) // (0, PS(pi)) // BS.Rx(theta=x) // (0, PS(pi)) \n",
        "y_rot = lambda x: BS.Ry(theta=x)\n",
        "z_rot = lambda x: BS.H() // x_rot(x) // BS.H() \n",
        "\n",
        "# Trigonom\u00e9trie avec Matplotlib \n",
        "def plot_trig(angles, colors=None, annotations=None):\n",
        "    r = 1.5\n",
        "    if colors is None:\n",
        "        colors = [\"blue\"] * len(angles)\n",
        "    if annotations is None:\n",
        "        annotations = [\"\"] * len(angles)\n",
        "    for angle, color, annotation in zip(angles, colors, annotations):\n",
        "        pos_x = r * cos(angle)\n",
        "        pos_y = r * sin(angle)\n",
        "        plt.plot([0, pos_x], [0, pos_y], color=color)\n",
        "        pos_x_a = pos_x + np.sign(pos_x) * 0.1 - (0.05 * len(annotation) if np.sign(pos_x) < 0 else 0)\n",
        "        pos_y_a = pos_y + np.sign(pos_y) * 0.1\n",
        "        plt.gca().annotate(annotation, xy=(pos_x_a, pos_y_a), xycoords='data', fontsize=10)\n",
        "\n",
        "    plt.plot(0, 0, color='black', marker='o')\n",
        "    a = np.linspace(0 * pi, 2 * pi, 100)\n",
        "    xs, ys = r * cos(a), r * sin(a)\n",
        "    plt.plot(xs, ys, color=\"black\")\n",
        "    plt.xlim(-2, 2)\n",
        "    plt.ylim(-2, 2)\n",
        "    plt.gca().set_aspect('equal')\n",
        "    plt.show()\n",
        "\n",
        "# Version de `round()` pour les nombres complexes.\n",
        "def roundc(c: complex, decimals: int = 2) -> complex:\n",
        "    return round(c.real, decimals) + round(c.imag, decimals) * 1j"
      ]
    },
    {
      "cell_type": "markdown",
      "id": "533cbe33-3ac9-4c12-95ef-ebd3f6cf1b81",
      "metadata": {},
      "source": [
        "### Exemples"
      ]
    },
    {
      "cell_type": "code",
      "execution_count": 3,
      "id": "719ee610-4df9-40ce-9293-acf55ad256f7",
      "metadata": {},
      "outputs": [],
      "source": [
        "hadamard_gate = BS.H()\n",
        "print(amplitudes(hadamard_gate))\n",
        "analyze(hadamard_gate)\n",
        "plot_bloch(hadamard_gate)"
      ]
    },
    {
      "cell_type": "markdown",
      "id": "e08eaa4f-2037-4719-9198-8078ac486f65",
      "metadata": {},
      "source": [
        "Il n'existe pas uniquement la sph\u00e8re de Bloch pour repr\u00e9senter des qubits, on peut simplement utiliser un cercle trigonom\u00e9trique. La transition est explicite : **l'abscisse correspond \u00e0 $|0\\rangle$ et l'ordonn\u00e9e \u00e0 $|1\\rangle$**, $|+\\rangle$ se retrouve donc \u00e0 $\\frac{\\pi}{4}$. Tous les \u00e9tats sont sur le cercle, car la somme des probabilit\u00e9s, qui ici est une amplitude, est toujours $1$. On perd n\u00e9anmoins, avec cet affichage, l'information de la phase globale.\n",
        "\n",
        "Par exemple, voici la base canonique (en bleu) et la base d'Hadamard (en rouge) : "
      ]
    },
    {
      "cell_type": "code",
      "execution_count": 4,
      "id": "5b10e24f-e65a-431e-914a-6b2524ecc8a4",
      "metadata": {},
      "outputs": [],
      "source": [
        "plot_trig([0, pi/2, pi/4, -pi/4], [\"blue\", \"blue\", \"red\", \"red\"], [\"|0>\", \"|1>\", \"|+>\", \"|->\"])"
      ]
    },
    {
      "cell_type": "markdown",
      "id": "550863ce-5fff-4bd2-bb16-741469708347",
      "metadata": {},
      "source": [
        "Pour ce challenge, comme nous n'avons pas besoin de phase, mais de visualiser plusieurs bases diff\u00e9rentes en m\u00eame temps, nous allons utiliser uniquement la repr\u00e9sentation avec le cercle trigonom\u00e9trique."
      ]
    },
    {
      "cell_type": "markdown",
      "id": "4c0737cc-07b8-4c57-b59f-d978ae8c4c22",
      "metadata": {},
      "source": [
        "# Challenge 2 : Attaque de la femme du milieu (version quantique)\n",
        "\n",
        "Vous connaissez tous l'attaque de *Man In The Middle* classique, un attaquant intercepte une communication entre deux entit\u00e9s qui ne se rendent pas compte que leur conversation est \u00e9cout\u00e9e. Je vous propose aujourd'hui de d\u00e9couvrir la **version quantique !** **Alice** et **Bob** (oui, encore eux, m\u00eame les physiciens sont fan), d\u00e9cident de s'\u00e9changer une clef secr\u00e8te avec le **protocole BB84**. \u00c9tant certains de la fiabilit\u00e9 de leur protocole, ils laissent une tol\u00e9rance au bruit. Cependant, **Eve** r\u00e9ussit \u00e0 intercepter le canal de discussion. Va-t-elle r\u00e9ussir \u00e0 passer inaper\u00e7u ? \n",
        "\n",
        "![table_cat_meme.jpg](https://i.imgflip.com/8nfe5l.jpg)\n",
        "\n",
        "## Protocol BB84 : Utilisation normale\n",
        "Le protocol BB84 permet de s'\u00e9changer une clef de $n$ bits avec $4n$ qubits. Il se base sur le principe que, si quelqu'un venait \u00e0 \u00e9couter la conversation, cette personne serait oblig\u00e9e de **mesurer** les qubits, et donc d'effondrer les fonctions d'ondes associ\u00e9es (une mesure est une projection et donc une perte d'information). **Cet effondrement est ainsi visible**, apportant une erreur de $25\\%$ lors de l'\u00e9tape de v\u00e9rification. \n",
        "\n",
        "### \u00c9tape 1 : Alice pr\u00e9pare ses qubits \u00e0 envoyer\n",
        "**1.a)** Il faut tout d'abord une clef, pour cela, une cha\u00eene binaire al\u00e9atoire de taille $4n$ est g\u00e9n\u00e9r\u00e9e. \n",
        "\n",
        "*Il est possible de g\u00e9n\u00e9rer cette cha\u00eene avec un ordinateur quantique pour de l'al\u00e9atoire de meilleure qualit\u00e9.*"
      ]
    },
    {
      "cell_type": "code",
      "execution_count": 5,
      "id": "790d1fbb-389d-4b59-be10-65b5ea092da5",
      "metadata": {},
      "outputs": [],
      "source": [
        "N = 100\n",
        "bits_alice = np.random.randint(low=0, high=2, size=(4 * N,))"
      ]
    },
    {
      "cell_type": "markdown",
      "id": "f717a67b-9d7b-44f6-8a0b-f3fd6d0b1c45",
      "metadata": {},
      "source": [
        "**1.b)** Alice va ensuite choisir $4n$ bases al\u00e9atoires dans $\\{+, \\times\\}$, dans lesquelles elle va encoder ses qubits. *(Veuillez m'excuser pour la confusion entre la base $+$ et l'\u00e9tat $|+\\rangle$ qui n'ont rien \u00e0 voir. La notation + est en fait une croix droite qui correspond aux \u00e9tats en bleu ci-dessous et la croix tourn\u00e9e x aux \u00e9tats en rouge)*.\n",
        "\n",
        "La base $+$ est la base canonique : \n",
        "$$\n",
        "+ = \\left\\{ \\begin{pmatrix} 1 \\\\ 0 \\end{pmatrix}, \\begin{pmatrix} 0 \\\\ 1 \\end{pmatrix}\\right\\}\n",
        "$$\n",
        "\n",
        "Tandis que la base $\\times$ est d\u00e9finie par : \n",
        "$$\n",
        "\\times = \\left\\{\\frac{1}{\\sqrt{2}}\\begin{pmatrix} 1 \\\\ 1 \\end{pmatrix}, \\frac{1}{\\sqrt{2}}\\begin{pmatrix} -1 \\\\ 1 \\end{pmatrix}\\right\\}\n",
        "$$\n",
        "\n",
        "On peut les visualiser : "
      ]
    },
    {
      "cell_type": "code",
      "execution_count": 6,
      "id": "cc8ff088-9aac-4987-b0dd-9afcf4563d55",
      "metadata": {},
      "outputs": [],
      "source": [
        "plot_trig([0, pi/2, pi/4, 3*pi/4], [\"blue\", \"blue\", \"red\", \"red\"], [\"0 (+)\", \"1 (+)\", \"0 (x)\", \"1 (x)\"])"
      ]
    },
    {
      "cell_type": "markdown",
      "id": "6d6b0e15-bddb-4698-a253-78ff8029dbcc",
      "metadata": {},
      "source": [
        "L'encodage est enti\u00e8rement repr\u00e9sent\u00e9 sur ce sch\u00e9ma : $1$ dans la base $\\times$ sera cod\u00e9 :\n",
        "$$\n",
        "-\\frac{\\sqrt{2}}{2} \\begin{pmatrix} 1 \\\\ 0 \\end{pmatrix} + \\frac{\\sqrt{2}}{2} \\begin{pmatrix} 0 \\\\ 1 \\end{pmatrix} =  -\\frac{1}{\\sqrt{2}} |0\\rangle + \\frac{1}{\\sqrt{2}} |1\\rangle\n",
        "$$\n",
        "\n",
        "*Pour rappel, avec l'encodage par rail que l'on a vu pr\u00e9c\u00e9demment, cela donne :* \n",
        "$$\n",
        "-\\frac{1}{\\sqrt{2}} |1, 0\\rangle\\rangle + \\frac{1}{\\sqrt{2}} |0, 1\\rangle\\rangle\n",
        "$$\n",
        "*On utilise cette notation pour les \u00e9tats de Fock (les rails), pour \u00e9viter de confondre avec l'\u00e9tat multiple $|10\\rangle$ que l'on d\u00e9couvrira par la suite.*\n",
        " \n",
        "*Peu importe le nom que l'on donne \u00e0 nos vecteurs de notre base, ici canonique, cela ne change \u00e9videmment rien aux calculs. Je ne l'ai pas pr\u00e9cis\u00e9, mais (presque) tout ce qui est fait dans le cadre de cette comp\u00e9tition est reproduisable sur des ordinateurs quantiques poss\u00e9dants des technologies diff\u00e9rentes. Il suffit d'adapter l'encodage du qubit, les calculs sont les m\u00eames.*"
      ]
    },
    {
      "cell_type": "code",
      "execution_count": 7,
      "id": "a7777d13-edb4-4356-ac2f-366b80687f8b",
      "metadata": {},
      "outputs": [],
      "source": [
        "bases_alice = np.array([\"+\" if b == 0 else \"x\" for b in np.random.randint(low=0, high=2, size=(4 * N,))])"
      ]
    },
    {
      "cell_type": "markdown",
      "id": "1a07f6e9-8135-4318-91b5-4ec0ee44786d",
      "metadata": {},
      "source": [
        "**1.c)** Alice peut maintenant encoder ses $4n$ qubits dans ses $4n$ bases. *J'utilise des `StateVector`, qui est une g\u00e9n\u00e9ralisation des `BasicState` qu'on a rencontr\u00e9. Cela me permet d'effectuer des op\u00e9rations sur les \u00e9tats plus facilement, sans me soucier de la normalisation qui est effectu\u00e9e automatiquement.* \n",
        "\n",
        "***>> Attention aux `StateVector` qui peuvent \u00eatre m\u00e9chants, `3 * a + b` marche, alors que `a + 3 * b` non !***\n",
        "*Attention aussi \u00e0 la confusion entre le `Statevector` de Qiskit et le `StateVector` de Perceval, on utilise les deux ...*"
      ]
    },
    {
      "cell_type": "code",
      "execution_count": 8,
      "id": "a0983c22-6573-43c4-b681-4baeeb301c23",
      "metadata": {},
      "outputs": [],
      "source": [
        "qubits_alice = []\n",
        "\n",
        "# Pour pouvoir tester plus facilement, je d\u00e9finis les valeurs de 0 et de 1 dans la base X, attention, ce \n",
        "# ne sont plus des BasicState, mais des StateVector, il faut donc utiliser la fonction measure (voir\n",
        "# ci-dessous) pour les manipuler\n",
        "qubits[\"0x\"] = qubits[\"0\"] + qubits[\"1\"] \n",
        "qubits[\"1x\"] = qubits[\"1\"] - qubits[\"0\"] \n",
        "print(type(qubits[\"0\"]), type(qubits[\"0x\"]))\n",
        "\n",
        "for bit, basis  in zip(bits_alice, bases_alice):\n",
        "    if basis == \"+\":\n",
        "        s = pcvl.StateVector(qubits[\"0\"]) if bit == 0 else pcvl.StateVector(qubits[\"1\"])\n",
        "    else: \n",
        "        s = qubits[\"0x\"] if bit == 0 else qubits[\"1x\"]\n",
        "    qubits_alice.append(s)\n",
        "\n",
        "    # On affiche les 9 premiers pour v\u00e9rifier :\n",
        "    if len(qubits_alice) < 10: \n",
        "        print(f\"Bit \u00e0 encoder : {bit}, base choisie : {basis}, qubit correspondant : {s}\")"
      ]
    },
    {
      "cell_type": "markdown",
      "id": "2eeb1b22-f20e-4b4b-a91f-3092e3ef56f0",
      "metadata": {
        "ExecuteTime": {
          "end_time": "2024-04-01T20:19:42.879285Z",
          "start_time": "2024-04-01T20:19:42.877588Z"
        }
      },
      "source": [
        "Maintenant qu'Alice a pr\u00e9par\u00e9 ses qubits, elle peut les envoyer \u00e0 Bob. *Par exemple \u00e0 l'aide d'un photon.*\n",
        "\n",
        "### \u00c9tape 2 : r\u00e9cup\u00e9ration par Bob et d\u00e9codage\n",
        "\n",
        "Bob **ne connait pas les bases dans lesquelles ont \u00e9t\u00e9 encod\u00e9s les qubits**, il va donc choisir al\u00e9atoirement $4n$ bases comme Alice, et va mesurer les qubits d'Alice. Seuls la moiti\u00e9 des bits seront ainsi juste, \u00e9tant donn\u00e9 qu'il a une chance sur deux \u00e0 chaque fois de tomber sur la m\u00eame base qu'Alice.\n",
        "\n",
        "Une fois qu'il a mesur\u00e9 les photons, ceux-ci se sont effondr\u00e9s, personne ne peut plus les avoir. C'est une notion importante \u00e0 comprendre. Dans le monde classique, on peut envoyer un message tout en gardant une version de son contenu de notre c\u00f4t\u00e9, ce n'est pas comme si \u00e0 chaque message que l'on envoyait, il s'effa\u00e7ait de notre t\u00e9l\u00e9phone, et de notre m\u00e9moire. Dans le monde quantique cependant, c'est le cas ! Il y a m\u00eame un th\u00e9or\u00e8me d\u00e9di\u00e9 : le **th\u00e9or\u00e8me de non-clonage.** On ne peut pas prendre un \u00e9tat quantique arbitraire inconnu et avoir un appareil qui nous renvoie deux copies de cet \u00e9tat. C'est \u00e9videmment tr\u00e8s pratique dans le monde de la cyber. On peut effectuer des actions apr\u00e8s mesure avec des garanties. Le RGPD quantique d\u00e9j\u00e0 au taquet !\n",
        "\n",
        "**2.a)** Bob choisit al\u00e9atoirement $4n$ bases : "
      ]
    },
    {
      "cell_type": "code",
      "execution_count": 9,
      "id": "d267b387-433d-4856-99a9-a3ec2400a1b7",
      "metadata": {},
      "outputs": [],
      "source": [
        "bases_bob = np.array([\"+\" if b == 0 else \"x\" for b in np.random.randint(low=0, high=2, size=(4*N,))])"
      ]
    },
    {
      "cell_type": "markdown",
      "id": "df78904c-7cd8-4cd7-a81e-fe01573a7088",
      "metadata": {},
      "source": [
        "Pour simuler une mesure, on va utiliser le processeur \"SLOS\" : "
      ]
    },
    {
      "cell_type": "code",
      "execution_count": 10,
      "id": "888492bd-b203-474e-b4bc-d88bd5b6577c",
      "metadata": {},
      "outputs": [],
      "source": [
        "def measure(input_state, circuit, full=False):\n",
        "    p = pcvl.Processor(\"SLOS\", circuit)\n",
        "    p.with_input(input_state)\n",
        "    sampler = pcvl.algorithm.Sampler(p)\n",
        "\n",
        "    # Mesure (compl\u00e8te) faite avec 1000 essais, on se retrouve donc avec un r\u00e9sultat semblable \n",
        "    # \u00e0 l'Analyser\n",
        "    if full:\n",
        "        sample_count = sampler.sample_count(1000)\n",
        "        return sample_count['results']\n",
        "        \n",
        "    sample_count = sampler.sample_count(1)\n",
        "    return list(sample_count['results'].keys())[0]"
      ]
    },
    {
      "cell_type": "markdown",
      "id": "91935362-8779-4fd5-90d8-1ce4c1d3cd7f",
      "metadata": {},
      "source": [
        "**2.b)** Bob pr\u00e9pare les circuits n\u00e9cessaires \u00e0 ces mesures.\n",
        "\n",
        "Pour mesurer dans la base $+$, il suffit de prendre l'identit\u00e9 vu que c'est notre base canonique : "
      ]
    },
    {
      "cell_type": "code",
      "execution_count": 11,
      "id": "5aef301b-f117-4f16-b9e9-73a5083dddce",
      "metadata": {},
      "outputs": [],
      "source": [
        "base_p = Circuit(2)"
      ]
    },
    {
      "cell_type": "markdown",
      "id": "cb5625de-9a2f-4e5a-ab4c-be543ccde5b3",
      "metadata": {},
      "source": [
        "On peut v\u00e9rifier :"
      ]
    },
    {
      "cell_type": "code",
      "execution_count": 12,
      "id": "fe655c22-ac48-41ee-a450-65e9b918db25",
      "metadata": {},
      "outputs": [],
      "source": [
        "print(f\"\"\"\n",
        "0 dans la base + : {measure(qubits[\"0\"], base_p, full=True)}\n",
        "1 dans la base + : {measure(qubits[\"1\"], base_p, full=True)}\n",
        "0 dans la base x ({qubits[\"0x\"]}) mesur\u00e9e dans la base + : {measure(qubits[\"0x\"], base_p, full=True)}\n",
        "1 dans la base x ({qubits[\"1x\"]}) mesur\u00e9e dans la base + : {measure(qubits[\"1x\"], base_p, full=True)}\n",
        "\"\"\")"
      ]
    },
    {
      "cell_type": "markdown",
      "id": "59903df3-ea9f-4238-8cf5-f42c46a43dee",
      "metadata": {},
      "source": [
        "Comme pr\u00e9vu, aucun moyen de d\u00e9terminer le bit d'Alice si Bob se trompe de base. On fait de m\u00eame pour la base $\\times$. Cette fois, on utilise une rotation de $-\\frac{\\pi}{4}$ (passage de la base $\\times$ \u00e0 notre base canonique). J'utilise pour cela une rotation $y$ avec un angle de $-\\frac{\\pi}{2}$, cela est d\u00fb aux diff\u00e9rences de conventions entre la sph\u00e8re de Bloch et notre cercle trigonom\u00e9trique. "
      ]
    },
    {
      "cell_type": "code",
      "execution_count": 13,
      "id": "34df1fad-ae2b-4c86-a346-043df65864be",
      "metadata": {},
      "outputs": [],
      "source": [
        "base_x = y_rot(-pi/2)\n",
        "\n",
        "print(f\"\"\"\n",
        "0 dans la base x : {measure(qubits[\"0x\"], base_x, full=True)}\n",
        "1 dans la base x : {measure(qubits[\"1x\"], base_x, full=True)}\n",
        "0 dans la base + ({qubits[\"0\"]}) mesur\u00e9e dans la base x : {measure(qubits[\"0\"], base_x, full=True)}\n",
        "1 dans la base + ({qubits[\"1\"]}) mesur\u00e9e dans la base x : {measure(qubits[\"1\"], base_x, full=True)}\n",
        "\"\"\")"
      ]
    },
    {
      "cell_type": "markdown",
      "id": "74d13b405a232671",
      "metadata": {
        "collapsed": false
      },
      "source": [
        "**2.c)** Bob mesure les qubits envoy\u00e9s par Alice dans ses bases. "
      ]
    },
    {
      "cell_type": "code",
      "execution_count": 14,
      "id": "e2d788e3c72857b1",
      "metadata": {
        "collapsed": false
      },
      "outputs": [],
      "source": [
        "bits_bob = []\n",
        "for q, b in zip(qubits_alice, bases_bob): \n",
        "    if b == \"+\":\n",
        "        bits_bob.append(0 if measure(q, base_p) == qubits[\"0\"] else 1)\n",
        "    else:\n",
        "        bits_bob.append(0 if measure(q, base_x) == qubits[\"0\"] else 1)\n",
        "bits_bob = np.array(bits_bob)"
      ]
    },
    {
      "cell_type": "markdown",
      "id": "b5307ebb4c97d8c5",
      "metadata": {
        "collapsed": false
      },
      "source": [
        "On peut calculer la correspondance avec la clef d'Alice : "
      ]
    },
    {
      "cell_type": "code",
      "execution_count": 15,
      "id": "5b2fd853543a310c",
      "metadata": {
        "collapsed": false
      },
      "outputs": [],
      "source": [
        "correspondance_secret_key_bits_bob = bits_bob == bits_alice\n",
        "np.sum(correspondance_secret_key_bits_bob) / (4 * N)"
      ]
    },
    {
      "cell_type": "markdown",
      "id": "30832a97215d03c4",
      "metadata": {
        "collapsed": false
      },
      "source": [
        "On a bien $\\sim 75\\%$ d'\u00e9quivalence : dans $50\\%$ des cas, Alice et Bob ont la m\u00eame base donc les m\u00eames valeurs. Il y a $25\\%$ en plus, car quand ils n'ont pas la m\u00eame base, il y a $50\\%$ de r\u00e9ussite. \n",
        "\n",
        "### \u00c9tape 3 : Alice et Bob se mettent d'accord.\n",
        "\n",
        "Une fois que les qubits ont \u00e9t\u00e9 mesur\u00e9s par Bob, Bob va **rendre ses bases publiques**, et Alice va pouvoir lui dire o\u00f9 il y a correspondance, et donc o\u00f9 ils peuvent \u00eatre s\u00fbr d'avoir la m\u00eame chose."
      ]
    },
    {
      "cell_type": "code",
      "execution_count": 16,
      "id": "2f9d02c40f9e63e2",
      "metadata": {
        "collapsed": false
      },
      "outputs": [],
      "source": [
        "correspondance_bases_alice_bob = bases_bob == bases_alice \n",
        "half_bits_bob = bits_bob[correspondance_bases_alice_bob]\n",
        "half_bits_alice = bits_alice[correspondance_bases_alice_bob]\n",
        "# ATTENTION : Ne pas relancer la cellule toute seule, relancer tout le notebook pour rafraichir cette cellule correctement. "
      ]
    },
    {
      "cell_type": "markdown",
      "id": "9a77d7f607102ba1",
      "metadata": {
        "collapsed": false
      },
      "source": [
        "### \u00c9tape 4 : V\u00e9rification de l'int\u00e9grit\u00e9 de la communication.\n",
        "\n",
        "Pour v\u00e9rifier qu'il n'y a pas eu d'\u00e9coute, Alice et Bob vont **rendre publique la moiti\u00e9 de leur clef commune.** Si il y a correspondance totale, alors on est s\u00fbr que personne n'a \u00e9cout\u00e9. "
      ]
    },
    {
      "cell_type": "code",
      "execution_count": 17,
      "id": "246f7575e147d631",
      "metadata": {
        "collapsed": false
      },
      "outputs": [],
      "source": [
        "last_slice = len(half_bits_bob) // 2\n",
        "verification = half_bits_bob[:last_slice] == half_bits_alice[:last_slice]\n",
        "print(f\"Pourcentage de correspondance : {int(np.sum(verification) / last_slice * 100)}%\")"
      ]
    },
    {
      "cell_type": "markdown",
      "id": "915c47a9248bfe44",
      "metadata": {
        "collapsed": false
      },
      "source": [
        "D'o\u00f9 *in fine*, la clef secr\u00e8te avec une taille environ \u00e9gale \u00e0 $n$ (On peut trouver un $n'$ tel que la probabilit\u00e9 d'avoir $|clef| > n$ soit arbitrairement grande, puis couper \u00e0 $n$) : "
      ]
    },
    {
      "cell_type": "code",
      "execution_count": 18,
      "id": "5e272b07c520896",
      "metadata": {
        "collapsed": false
      },
      "outputs": [],
      "source": [
        "secret_key = half_bits_bob[last_slice:]\n",
        "print(f\"Secret key : {secret_key}, taille : {len(secret_key)}\")"
      ]
    },
    {
      "cell_type": "markdown",
      "id": "1418e9946f11d5d7",
      "metadata": {
        "collapsed": false
      },
      "source": [
        "## Protocol BB84 : \u00c8ve entre en sc\u00e8ne \n",
        "\n",
        "Tout est identique, sauf que maintenant, \u00c8ve intercepte la communication et va essayer de d\u00e9duire une partie de la clef \u00e9chang\u00e9e. \n",
        "\n",
        "### \u00c9tape 1 : R\u00e9impl\u00e9mentez le protocole, en rajoutant \u00c8ve au milieu *(cette \u00e9tape n'est pas n\u00e9cessaire pour obtenir le drapeau, mais recommand\u00e9 pour faciliter la suite)*\n",
        "\n",
        "\u00c8ve utilise dans un premier temps la m\u00eame strat\u00e9gie que Bob et Alice, elle se fait d'abord passer pour Bob, puis pour Alice, en effectuant les m\u00eames actions d'encodage/ d\u00e9codage. "
      ]
    },
    {
      "cell_type": "code",
      "execution_count": 19,
      "id": "39bc542994318f51",
      "metadata": {
        "collapsed": false
      },
      "outputs": [],
      "source": [
        "N = 100\n",
        "\n",
        "# Alice pr\u00e9pare ses qubits\n",
        "bits_alice = np.random.randint(low=0, high=2, size=(4 * N,))\n",
        "bases_alice = np.array([\"+\" if b == 0 else \"x\" for b in np.random.randint(low=0, high=2, size=(4 * N,))])\n",
        "qubits_alice = []\n",
        "for bit, basis  in zip(bits_alice, bases_alice):\n",
        "    if basis == \"+\":\n",
        "        s = pcvl.StateVector(qubits[\"0\"]) if bit == 0 else pcvl.StateVector(qubits[\"1\"])\n",
        "    else:\n",
        "        s = qubits[\"0x\"] if bit == 0 else qubits[\"1x\"]\n",
        "    qubits_alice.append(s)\n",
        "\n",
        "\n",
        "# \u00c8ve les intercepte et applique la m\u00eame m\u00e9thode que Bob en se faisant passer pour lui\n",
        "bits_eve = []\n",
        "raise NotImplementedError\n",
        "\n",
        "\n",
        "bits_eve = np.array(bits_eve)\n",
        "\n",
        "# Elle renvoie ensuite les qubits correspondants pour se faire passer pour Alice\n",
        "qubits_eve = []\n",
        "raise NotImplementedError\n",
        "    \n",
        "\n",
        "# Bob re\u00e7oit les qubits d'\u00c8ve et applique la m\u00eame m\u00e9thode que pr\u00e9c\u00e9demment \n",
        "bases_bob = np.array([\"+\" if b == 0 else \"x\" for b in np.random.randint(low=0, high=2, size=(4 * N,))])\n",
        "bits_bob = []\n",
        "for q, b in zip(qubits_eve, bases_bob):\n",
        "    if b == \"+\":\n",
        "        bits_bob.append(0 if measure(q, base_p) == qubits[\"0\"] else 1)\n",
        "    else:\n",
        "        bits_bob.append(0 if measure(q, base_x) == qubits[\"0\"] else 1)\n",
        "bits_bob = np.array(bits_bob)\n",
        "\n",
        "\n",
        "# Derni\u00e8re \u00e9tape : mise en commun\n",
        "correspondance_bases_alice_bob = bases_bob == bases_alice\n",
        "half_bits_alice = bits_alice[correspondance_bases_alice_bob]\n",
        "half_bits_bob = bits_bob[correspondance_bases_alice_bob]\n",
        "last_slice = len(half_bits_alice) // 2\n",
        "\n",
        "\n",
        "# V\u00e9rification du bon d\u00e9roul\u00e9 \n",
        "verification = half_bits_alice[:last_slice] == half_bits_bob[:last_slice]\n",
        "correspondance_percentage = int(np.sum(verification) / last_slice * 100)\n",
        "\n",
        "print(f\"Pourcentage de correspondance : {correspondance_percentage}%, d'o\u00f9 une erreur de {100 - correspondance_percentage}%.\")\n",
        "\n",
        "secret_key_step_1 = half_bits_bob[:last_slice]"
      ]
    },
    {
      "cell_type": "markdown",
      "id": "847155a6b1c45da0",
      "metadata": {
        "collapsed": false
      },
      "source": [
        "En faisant les calculs, on montre que l'erreur est en moyenne de $25\\%$\u00b7 En \u00e9changeant un grand nombre de bits, on se rapproche de cette moyenne et l'on peut donc d\u00e9tecter une \u00e9coute. "
      ]
    },
    {
      "cell_type": "code",
      "execution_count": 20,
      "id": "43fe14ffe2d88764",
      "metadata": {
        "collapsed": false
      },
      "outputs": [],
      "source": [
        "print(secret_key_step_1)"
      ]
    },
    {
      "cell_type": "markdown",
      "id": "a54e35532baa1b64",
      "metadata": {
        "collapsed": false
      },
      "source": [
        "Ce n'est pas exactement la clef, il faudra encore utiliser des codes correction d'erreurs pour qu'Alice et Bob se retrouvent avec la m\u00eame clef. Dans le cadre de ce challenge, on va s'arr\u00eater ici.\n",
        "\n",
        "Dans ce cas-l\u00e0, \u00c8ve se fait d\u00e9tecter. Mais il est possible de r\u00e9duire l'erreur, certes de peu, mais cela peut permettre de passer pour du bruit. On va supposer pour simplifier que : **une erreur en dessous de $20\\%$ est consid\u00e9r\u00e9e comme du bruit.**\n",
        "\n",
        "### \u00c9tape 2 : \u00c8ve contre-attaque, trouvez un moyen de faire descendre l'erreur moyenne \u00e0 $20\\%$ (ou en dessous).\n",
        "\n",
        "*Le protocole reste le m\u00eame, les seuls param\u00e8tres modifiables sont les bases de mesure pour mesurer les qubits d'Alice et les qubits \u00e0 envoyer \u00e0 Bob. Le pourcentage de correspondance doit \u00eatre au-dessus de $79$ pour $N = 500$ pour passer les tests.*"
      ]
    },
    {
      "cell_type": "code",
      "execution_count": 21,
      "id": "c1354aa7d6187475",
      "metadata": {
        "collapsed": false
      },
      "outputs": [],
      "source": [
        "N = 100\n",
        "\n",
        "# Alice pr\u00e9pare ses qubits\n",
        "bits_alice = np.random.randint(low=0, high=2, size=(4 * N,))\n",
        "bases_alice = np.array([\"+\" if b == 0 else \"x\" for b in np.random.randint(low=0, high=2, size=(4 * N,))])\n",
        "qubits_alice = []\n",
        "for bit, basis  in zip(bits_alice, bases_alice):\n",
        "    if basis == \"+\":\n",
        "        s = pcvl.StateVector(qubits[\"0\"]) if bit == 0 else pcvl.StateVector(qubits[\"1\"])\n",
        "    else:\n",
        "        s = qubits[\"0x\"] if bit == 0 else qubits[\"1x\"]\n",
        "    qubits_alice.append(s)\n",
        "\n",
        "\n",
        "# Interception\n",
        "bits_eve = ...\n",
        "raise NotImplementedError\n",
        "\n",
        "# Envoi\n",
        "qubits_eve = []\n",
        "raise NotImplementedError \n",
        "\n",
        "# Bob re\u00e7oit les qubits d'\u00c8ve et applique la m\u00eame m\u00e9thode que pr\u00e9c\u00e9demment \n",
        "bases_bob = np.array([\"+\" if b == 0 else \"x\" for b in np.random.randint(low=0, high=2, size=(4 * N,))])\n",
        "bits_bob = []\n",
        "for q, b in zip(qubits_eve, bases_bob):\n",
        "    if b == \"+\":\n",
        "        bits_bob.append(0 if measure(q, base_p) == qubits[\"0\"] else 1)\n",
        "    else:\n",
        "        bits_bob.append(0 if measure(q, base_x) == qubits[\"0\"] else 1)\n",
        "bits_bob = np.array(bits_bob)\n",
        "\n",
        "\n",
        "# Derni\u00e8re \u00e9tape : mise en commun\n",
        "correspondance_bases_alice_bob = bases_bob == bases_alice\n",
        "half_bits_alice = bits_alice[correspondance_bases_alice_bob]\n",
        "half_bits_bob = bits_bob[correspondance_bases_alice_bob]\n",
        "last_slice = len(half_bits_alice) // 2\n",
        "\n",
        "\n",
        "# V\u00e9rification du bon d\u00e9roul\u00e9 \n",
        "verification = half_bits_alice[:last_slice] == half_bits_bob[:last_slice]\n",
        "correspondance_percentage = int(np.sum(verification) / last_slice * 100)\n",
        "\n",
        "print(f\"Pourcentage de correspondance : {correspondance_percentage}%, d'o\u00f9 une erreur de {100 - correspondance_percentage}%.\")\n",
        "\n",
        "secret_key_step_2 = half_bits_bob[:last_slice]"
      ]
    },
    {
      "cell_type": "markdown",
      "id": "e982a7ae9cfad265",
      "metadata": {
        "collapsed": false
      },
      "source": [
        "## R\u00e9cup\u00e9ration du drapeau \n",
        "\n",
        "Le jour o\u00f9 j'arrive \u00e0 faire marcher `pcvl.random_seed(66)` je vous demanderai les clefs. En attendant, je veux bien les deux bases utilis\u00e9es lors de l'\u00e9tape 2, ainsi que les deux types de qubits envoy\u00e9s par \u00c8ve. \n",
        "\n",
        "Vous pouvez venir en DM si vous avez des probl\u00e8mes. "
      ]
    },
    {
      "cell_type": "code",
      "execution_count": 22,
      "id": "446ba3c812bf5057",
      "metadata": {
        "collapsed": false
      },
      "outputs": [],
      "source": [
        "def circuit_to_list(circuit: Circuit) -> List[List[Tuple[float, float]]]:\n",
        "    return [[(x.real, x.imag) for x in l] for l in np.array(circuit.compute_unitary())]\n",
        "    \n",
        "def state_vector_to_list(sv: StateVector) -> List[Tuple[float, float]]:\n",
        "    if type(sv) is not StateVector:\n",
        "        sv = pcvl.StateVector(sv)\n",
        "    sv.normalize()\n",
        "    r = [(0., 0.), (0., 0.)]\n",
        "    for k, v in sv:\n",
        "        r[int(qubits_[k])] = (v.real, v.imag)\n",
        "    return r\n",
        "\n",
        "def list_to_state_vector(p: List[Tuple[float, float]]) -> StateVector:\n",
        "    return complex(p[0][0], p[0][1]) * StateVector([1, 0]) + complex(p[1][0], p[1][1]) * StateVector([0, 1]) "
      ]
    },
    {
      "cell_type": "code",
      "outputs": [],
      "source": [
        "# Exemple pour la version de l'\u00e9tape 1 : \n",
        "# example_base_eve_1 = base_p \n",
        "# example_base_eve_2 = base_x\n",
        "# example_qubit_eve_1 = qubits[\"0\"]\n",
        "# example_qubit_eve_2 = qubits[\"1\"]\n",
        "# example_qubit_eve_3 = qubits[\"0x\"]\n",
        "# example_qubit_eve_4 = qubits[\"1x\"]\n",
        "\n",
        "d = {\n",
        "    \"base_eve_1\": circuit_to_list(...),\n",
        "    \"base_eve_2\": circuit_to_list(...),\n",
        "    \"qubit_eve_1\": state_vector_to_list(...),\n",
        "    \"qubit_eve_2\": state_vector_to_list(...),\n",
        "    \"qubit_eve_3\": state_vector_to_list(...),\n",
        "    \"qubit_eve_4\": state_vector_to_list(...)\n",
        "}\n",
        "raise NotImplementedError"
      ],
      "metadata": {
        "collapsed": false
      },
      "id": "17e4920685b492a8",
      "execution_count": 23
    },
    {
      "cell_type": "code",
      "outputs": [],
      "source": [
        "import requests as rq\n",
        "\n",
        "URL = \"https://perceval.challenges.404ctf.fr\"\n",
        "rq.get(URL + \"/healthcheck\").json()"
      ],
      "metadata": {
        "collapsed": false
      },
      "id": "936fd60ce121b3ac",
      "execution_count": 24
    },
    {
      "cell_type": "code",
      "outputs": [],
      "source": [
        "rq.post(URL + \"/challenges/2\", json=d).json()"
      ],
      "metadata": {
        "collapsed": false
      },
      "id": "e7dd3ad532bdc49",
      "execution_count": 25
    }
  ],
  "metadata": {
    "kernelspec": {
      "display_name": "Python (Perceval)",
      "language": "python",
      "name": "perceval"
    },
    "language_info": {
      "codemirror_mode": {
        "name": "ipython",
        "version": 3
      },
      "file_extension": ".py",
      "mimetype": "text/x-python",
      "name": "python",
      "nbconvert_exporter": "python",
      "pygments_lexer": "ipython3",
      "version": "3.11.8"
    }
  },
  "nbformat": 4,
  "nbformat_minor": 5
}